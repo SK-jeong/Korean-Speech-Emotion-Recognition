{
  "nbformat": 4,
  "nbformat_minor": 2,
  "metadata": {
    "colab": {
      "name": "konlpy.ipynb",
      "provenance": [],
      "collapsed_sections": [],
      "include_colab_link": true
    },
    "kernelspec": {
      "name": "python3",
      "display_name": "Python 3"
    },
    "language_info": {
      "name": "python"
    },
    "accelerator": "GPU"
  },
  "cells": [
    {
      "cell_type": "markdown",
      "source": [
        "<a href=\"https://colab.research.google.com/github/Taehee-K/Korean-Speech-Emotion-Recognition/blob/main/preprocess/konlpy.ipynb\" target=\"_parent\"><img src=\"https://colab.research.google.com/assets/colab-badge.svg\" alt=\"Open In Colab\"/></a>"
      ],
      "metadata": {
        "id": "view-in-github",
        "colab_type": "text"
      }
    },
    {
      "cell_type": "code",
      "execution_count": null,
      "source": [
        "# from google.colab import drive\r\n",
        "# drive.mount('/content/drive')"
      ],
      "outputs": [
        {
          "output_type": "stream",
          "name": "stdout",
          "text": [
            "Drive already mounted at /content/drive; to attempt to forcibly remount, call drive.mount(\"/content/drive\", force_remount=True).\n"
          ]
        }
      ],
      "metadata": {
        "colab": {
          "base_uri": "https://localhost:8080/"
        },
        "id": "I90yHSYP_sds",
        "outputId": "988fcae8-17c4-4905-8315-6f896ecf8a1f"
      }
    },
    {
      "cell_type": "code",
      "execution_count": null,
      "source": [
        "!pip install konlpy\r\n",
        "\r\n",
        "# Mecab installation\r\n",
        "!git clone https://github.com/SOMJANG/Mecab-ko-for-Google-Colab.git\r\n",
        "%cd Mecab-ko-for-Google-Colab\r\n",
        "!bash install_mecab-ko_on_colab190912.sh"
      ],
      "outputs": [],
      "metadata": {}
    },
    {
      "cell_type": "code",
      "execution_count": null,
      "source": [
        "# ignore warnings\r\n",
        "import warnings\r\n",
        "warnings.filterwarnings(\"ignore\")"
      ],
      "outputs": [],
      "metadata": {
        "id": "14FewstpBsbb"
      }
    },
    {
      "cell_type": "code",
      "execution_count": null,
      "source": [
        "import os\r\n",
        "import pandas as pd\r\n",
        "from konlpy.tag import * "
      ],
      "outputs": [],
      "metadata": {
        "id": "wn4rjOBkAZhW"
      }
    },
    {
      "cell_type": "markdown",
      "source": [
        "# Load Data"
      ],
      "metadata": {
        "id": "3YuxrZj6QRVG"
      }
    },
    {
      "cell_type": "code",
      "execution_count": null,
      "source": [
        "path = os.path.dirname(os.path.abspath(__file__))\r\n",
        "os.chdir(path)\r\n",
        "\r\n",
        "df = pd.read_csv(os.path.join(path, '../data/most_common.csv'))\r\n",
        "df.head()"
      ],
      "outputs": [],
      "metadata": {
        "id": "3aSe0bBdAdhO"
      }
    },
    {
      "cell_type": "code",
      "execution_count": null,
      "source": [
        "df.head()"
      ],
      "outputs": [
        {
          "output_type": "execute_result",
          "data": {
            "text/plain": [
              "                                        speech  emotion\n",
              "0    개를 예쁘다고 사놓고 끝까지 키우지도 않고 버리는 사람들이 엄청 많아졌대.    Angry\n",
              "1                      지금도 그대로 있어. 치우는 사람이 없어.  Disgust\n",
              "2                맞아. 무기력증인 것 같아. 한동안 정말 바빴었거든.  Sadness\n",
              "3  오늘이 발표날인데 연락이 없더라고. 그래서 알아봤더니 명단에 내 이름이 없대.  Sadness\n",
              "4     그치. 개 키우는 사람이 늘어나니까 그만큼 버리는 사람도 늘어나는 거야!    Angry"
            ],
            "text/html": [
              "<div>\n",
              "<style scoped>\n",
              "    .dataframe tbody tr th:only-of-type {\n",
              "        vertical-align: middle;\n",
              "    }\n",
              "\n",
              "    .dataframe tbody tr th {\n",
              "        vertical-align: top;\n",
              "    }\n",
              "\n",
              "    .dataframe thead th {\n",
              "        text-align: right;\n",
              "    }\n",
              "</style>\n",
              "<table border=\"1\" class=\"dataframe\">\n",
              "  <thead>\n",
              "    <tr style=\"text-align: right;\">\n",
              "      <th></th>\n",
              "      <th>speech</th>\n",
              "      <th>emotion</th>\n",
              "    </tr>\n",
              "  </thead>\n",
              "  <tbody>\n",
              "    <tr>\n",
              "      <th>0</th>\n",
              "      <td>개를 예쁘다고 사놓고 끝까지 키우지도 않고 버리는 사람들이 엄청 많아졌대.</td>\n",
              "      <td>Angry</td>\n",
              "    </tr>\n",
              "    <tr>\n",
              "      <th>1</th>\n",
              "      <td>지금도 그대로 있어. 치우는 사람이 없어.</td>\n",
              "      <td>Disgust</td>\n",
              "    </tr>\n",
              "    <tr>\n",
              "      <th>2</th>\n",
              "      <td>맞아. 무기력증인 것 같아. 한동안 정말 바빴었거든.</td>\n",
              "      <td>Sadness</td>\n",
              "    </tr>\n",
              "    <tr>\n",
              "      <th>3</th>\n",
              "      <td>오늘이 발표날인데 연락이 없더라고. 그래서 알아봤더니 명단에 내 이름이 없대.</td>\n",
              "      <td>Sadness</td>\n",
              "    </tr>\n",
              "    <tr>\n",
              "      <th>4</th>\n",
              "      <td>그치. 개 키우는 사람이 늘어나니까 그만큼 버리는 사람도 늘어나는 거야!</td>\n",
              "      <td>Angry</td>\n",
              "    </tr>\n",
              "  </tbody>\n",
              "</table>\n",
              "</div>"
            ]
          },
          "metadata": {
            "tags": []
          },
          "execution_count": 12
        }
      ],
      "metadata": {
        "colab": {
          "base_uri": "https://localhost:8080/",
          "height": 204
        },
        "id": "twBgU-z-A03m",
        "outputId": "0a7fdba8-646e-47af-fd64-dab1434f76b5"
      }
    },
    {
      "cell_type": "markdown",
      "source": [
        "# Morphology Analysis"
      ],
      "metadata": {
        "id": "VpMYNaaeYEFG"
      }
    },
    {
      "cell_type": "code",
      "execution_count": null,
      "source": [
        "twitter = Okt()       # 트위터 형태소 분석기   \r\n",
        "komoran = Komoran()   # Komoran 형태소 분석기\r\n",
        "kkma = Kkma()         # kkma 형태소 분석기 \r\n",
        "mecab = Mecab()       # mecab 형태소 분석기"
      ],
      "outputs": [],
      "metadata": {
        "id": "h1t73lsqUULQ"
      }
    },
    {
      "cell_type": "code",
      "execution_count": null,
      "source": [
        "# 형태소 분석 결과 보여주기\r\n",
        "\r\n",
        "# 트위터 형태소 분석기\r\n",
        "def make_corpus_show_morph_twitter(text):\r\n",
        "    corpus = []\r\n",
        "    for s in text:\r\n",
        "        corpus.append(['/'.join(p) for p in twitter.pos(s)]) \r\n",
        "    return corpus\r\n",
        "\r\n",
        "# Komoran 형태소 분석기\r\n",
        "def make_corpus_show_morph_komoran(text):\r\n",
        "    corpus = []\r\n",
        "    for s in text:\r\n",
        "        corpus.append(['/'.join(p) for p in komoran.pos(s)]) \r\n",
        "    return corpus\r\n",
        "\r\n",
        "# kkma 형태소 분석기\r\n",
        "def make_corpus_show_morph_kkma(text):\r\n",
        "    corpus = []\r\n",
        "    for s in text:\r\n",
        "        corpus.append(['/'.join(p) for p in kkma.pos(s)]) \r\n",
        "    return corpus\r\n",
        "\r\n",
        "# mecab 형태소 분석기\r\n",
        "def make_corpus_show_morph_mecab(text):\r\n",
        "    corpus = []\r\n",
        "    for s in text:\r\n",
        "        corpus.append(['/'.join(p) for p in mecab.pos(s)]) \r\n",
        "    return corpus"
      ],
      "outputs": [],
      "metadata": {
        "id": "K0w7fV7iaivi"
      }
    },
    {
      "cell_type": "code",
      "execution_count": null,
      "source": [
        "corpus_okt = make_corpus_show_morph_twitter(df['speech'])\n",
        "corpus_komoran = make_corpus_show_morph_komoran(df['speech'])\n",
        "corpus_kkma = make_corpus_show_morph_kkma(df['speech'])\n",
        "corpus_mecab = make_corpus_show_morph_mecab(df['speech'])"
      ],
      "outputs": [],
      "metadata": {
        "id": "_AZZOB8jDNWm"
      }
    },
    {
      "cell_type": "code",
      "execution_count": null,
      "source": [
        "corpus_df={}\n",
        "corpus_df['Okt'] = corpus_okt\n",
        "corpus_df['Kkma'] = corpus_kkma\n",
        "corpus_df['Komoran'] = corpus_komoran\n",
        "corpus_df['Mecab'] = corpus_mecab\n",
        "corpus_df = pd.DataFrame(corpus_df)"
      ],
      "outputs": [],
      "metadata": {
        "id": "mPX0AtMsyEYA"
      }
    },
    {
      "cell_type": "code",
      "execution_count": null,
      "source": [
        "pd.set_option('display.max_colwidth', None)\n",
        "corpus_df.head(10)"
      ],
      "outputs": [
        {
          "output_type": "execute_result",
          "data": {
            "text/plain": [
              "                                                                                                                                                                                                                                                   Okt  ...                                                                                                                                                                                                    Mecab\n",
              "0                                                                                            [개/Noun, 를/Josa, 예쁘다고/Adjective, 사놓고/Verb, 끝/Noun, 까지/Josa, 키우지도/Verb, 않고/Verb, 버리는/Verb, 사람/Noun, 들/Suffix, 이/Josa, 엄청/Adverb, 많아졌대/Verb, ./Punctuation]  ...                                      [개/NNG, 를/JKO, 예쁘/VA, 다고/EC, 사놓/VV, 고/EC, 끝/NNG, 까지/JX, 키우/VV, 지/EC, 도/JX, 않/VX, 고/EC, 버리/VX, 는/ETM, 사람/NNG, 들/XSN, 이/JKS, 엄청/MAG, 많/VA, 아/EC, 졌/VX+EP, 대/EF, ./SF]\n",
              "1                                                                                                                                     [지금/Noun, 도/Josa, 그대로/Noun, 있어/Adjective, ./Punctuation, 치우는/Verb, 사람/Noun, 이/Josa, 없어/Adjective, ./Punctuation]  ...                                                                                                                 [지금/NNG, 도/JX, 그대로/MAG, 있/VV, 어/EF, ./SF, 치우/VV, 는/ETM, 사람/NNG, 이/JKS, 없/VA, 어/EF, ./SF]\n",
              "2                                                                                                                [맞아/Verb, ./Punctuation, 무기력증/Noun, 인/Josa, 것/Noun, 같아/Adjective, ./Punctuation, 한동안/Adverb, 정말/Noun, 바빴었거든/Adjective, ./Punctuation]  ...                                                                                           [맞/VV, 아/EF, ./SF, 무기력증/NNG, 인/VCP+ETM, 것/NNB, 같/VA, 아/EF, ./SF, 한동안/MAG, 정말/MAG, 바빴/VA+EP, 었/EP, 거든/EF, ./SF]\n",
              "3                                                                  [오늘이/Noun, 발표/Noun, 날/Noun, 인데/Josa, 연락/Noun, 이/Josa, 없더라고/Adjective, ./Punctuation, 그래서/Adverb, 알아봤더니/Verb, 명단/Noun, 에/Josa, 내/Noun, 이름/Noun, 이/Josa, 없대/Adjective, ./Punctuation]  ...                              [오늘/NNG, 이/JKS, 발표/NNG, 날/NNG, 인데/VCP+EC, 연락/NNG, 이/JKS, 없/VA, 더라고/EF, ./SF, 그래서/MAJ, 알/VV, 아/EC, 봤/VX+EP, 더니/EC, 명단/NNG, 에/JKB, 내/NP+JKG, 이름/NNG, 이/JKS, 없/VA, 대/EF, ./SF]\n",
              "4                                                                                                    [그치/Verb, ./Punctuation, 개/Noun, 키우는/Verb, 사람/Noun, 이/Josa, 늘어나니까/Verb, 그만큼/Adverb, 버리는/Verb, 사람/Noun, 도/Josa, 늘어나는/Verb, 거야/Eomi, !/Punctuation]  ...                                                              [그치/IC, ./SF, 개/NNG, 키우/VV, 는/ETM, 사람/NNG, 이/JKS, 늘어나/VV, 니까/EC, 그만큼/MAG, 버리/VV, 는/ETM, 사람/NNG, 도/JX, 늘어나/VV, 는/ETM, 거/NNB, 야/VCP+EF, !/SF]\n",
              "5                                                                                         [공채/Noun, 로/Josa, 볼/Noun, 수/Noun, 있는/Adjective, 마지막/Noun, 회사/Noun, 였어/Verb, ./Punctuation, 그래서/Adverb, 정말/Noun, 많이/Adverb, 노력/Noun, 했거든/Verb, ./Punctuation]  ...                                                             [공채/NNG, 로/JKB, 볼/VV+ETM, 수/NNB, 있/VV, 는/ETM, 마지막/NNG, 회사/NNG, 였/VCP+EP, 어/EF, ./SF, 그래서/MAJ, 정말/MAG, 많이/MAG, 노력/NNG, 했/XSV+EP, 거든/EF, ./SF]\n",
              "6                                                         [버려진/Noun, 개/Noun, 가/Josa, 워낙/Noun, 많으니까/Adjective, 시설/Noun, 이/Josa, 부족할/Adjective, 수/Noun, 밖에/Josa, 없고/Adjective, 당연히/Adjective, 상황/Noun, 이/Josa, 너무/Adverb, 열악하지/Adjective, ./Punctuation]  ...                      [버려진/VV+EC+VX+ETM, 개/NNG, 가/JKS, 워낙/MAG, 많/VA, 으니까/EC, 시설/NNG, 이/JKS, 부족/NNG, 할/XSV+ETM, 수/NNB, 밖/NNG, 에/JKB, 없/VA, 고/EC, 당연히/MAG, 상황/NNG, 이/JKS, 너무/MAG, 열악/XR, 하/XSA, 지/EF, ./SF]\n",
              "7                                                                                                                                                                                                  [나/Noun, 면접/Noun, 또/Noun, 떨어졌어/Verb, ./Punctuation]  ...                                                                                                                                                             [나/NP, 면접/NNG, 또/MAG, 떨어졌/VV+EP, 어/EF, ./SF]\n",
              "8                                                                                                           [부모님/Noun, 께서/Josa, 기대/Noun, 가/Josa, 너무/Adverb, 크셔서/Verb, 실망/Noun, 도/Josa, 크실까봐/Verb, 아직/Adverb, 말씀/Noun, 못/Noun, 드렸어/Verb, ./Punctuation]  ...                                                         [부모/NNG, 님/XSN, 께서/JKS, 기대/NNG, 가/JKS, 너무/MAG, 크/VA, 셔서/EP+EC, 실망/NNG, 도/JX, 크/VA, 실까봐/EP+EC+VX+EC, 아직/MAG, 말씀/NNG, 못/MAG, 드렸/VV+EP, 어/EF, ./SF]\n",
              "9  [그렇지/Adjective, !/Punctuation, 아/Exclamation, 나/Noun, 진짜/Noun, 너무/Adverb, 싫어/Adjective, 그런/Adjective, 사람/Noun, 들/Suffix, ./Punctuation, 대체/Noun, 생명/Noun, 이/Josa, 있는/Adjective, 개/Noun, 를/Josa, 뭐라고/Verb, 생각/Noun, 하는/Verb, 거야/Eomi, ?/Punctuation]  ...  [그렇/VA, 지/EF, !/SF, 아/IC, 나/NP, 진짜/MAG, 너무/MAG, 싫/VA, 어/EC, 그런/MM, 사람/NNG, 들/XSN, ./SF, 대체/MAG, 생명/NNG, 이/JKS, 있/VA, 는/ETM, 개/NNG, 를/JKO, 뭐/NP, 라고/VCP+EC, 생각/NNG, 하/XSV, 는/ETM, 거/NNB, 야/VCP+EF, ?/SF]\n",
              "\n",
              "[10 rows x 4 columns]"
            ],
            "text/html": [
              "<div>\n",
              "<style scoped>\n",
              "    .dataframe tbody tr th:only-of-type {\n",
              "        vertical-align: middle;\n",
              "    }\n",
              "\n",
              "    .dataframe tbody tr th {\n",
              "        vertical-align: top;\n",
              "    }\n",
              "\n",
              "    .dataframe thead th {\n",
              "        text-align: right;\n",
              "    }\n",
              "</style>\n",
              "<table border=\"1\" class=\"dataframe\">\n",
              "  <thead>\n",
              "    <tr style=\"text-align: right;\">\n",
              "      <th></th>\n",
              "      <th>Okt</th>\n",
              "      <th>Kkma</th>\n",
              "      <th>Komoran</th>\n",
              "      <th>Mecab</th>\n",
              "    </tr>\n",
              "  </thead>\n",
              "  <tbody>\n",
              "    <tr>\n",
              "      <th>0</th>\n",
              "      <td>[개/Noun, 를/Josa, 예쁘다고/Adjective, 사놓고/Verb, 끝/Noun, 까지/Josa, 키우지도/Verb, 않고/Verb, 버리는/Verb, 사람/Noun, 들/Suffix, 이/Josa, 엄청/Adverb, 많아졌대/Verb, ./Punctuation]</td>\n",
              "      <td>[개/NNG, 를/JKO, 예쁘/VA, 다고/EFN, 사놓/VV, 고/ECE, 끝/NNG, 까지/JX, 키우/VV, 지/ECD, 도/JX, 않/VXV, 고/ECE, 버리/VXV, 는/ETD, 사람/NNG, 들/XSN, 이/JKS, 엄청/MAG, 많/VA, 아/ECD, 지/VXV, 었/EPT, 대/EFN, ./SF]</td>\n",
              "      <td>[개/NNB, 를/JKO, 예쁘/VA, 다고/EC, 사놓/VV, 고/EC, 끝/NNG, 까지/JX, 키우/VV, 지/EC, 도/JX, 않/VX, 고/EC, 버리/VX, 는/ETM, 사람/NNG, 들/XSN, 이/JKS, 엄청/MAG, 많/VA, 아/EC, 지/VX, 었/EP, 대/EF, ./SF]</td>\n",
              "      <td>[개/NNG, 를/JKO, 예쁘/VA, 다고/EC, 사놓/VV, 고/EC, 끝/NNG, 까지/JX, 키우/VV, 지/EC, 도/JX, 않/VX, 고/EC, 버리/VX, 는/ETM, 사람/NNG, 들/XSN, 이/JKS, 엄청/MAG, 많/VA, 아/EC, 졌/VX+EP, 대/EF, ./SF]</td>\n",
              "    </tr>\n",
              "    <tr>\n",
              "      <th>1</th>\n",
              "      <td>[지금/Noun, 도/Josa, 그대로/Noun, 있어/Adjective, ./Punctuation, 치우는/Verb, 사람/Noun, 이/Josa, 없어/Adjective, ./Punctuation]</td>\n",
              "      <td>[지금/NNG, 도/JX, 그대로/MAG, 있/VV, 어/ECD, ./SF, 치우/NNG, 는/JX, 사람/NNG, 이/JKS, 없/VA, 어/ECD, ./SF]</td>\n",
              "      <td>[지금/NNG, 도/JX, 그대로/MAG, 있/VX, 어/EF, ./SF, 치우/VV, 는/ETM, 사람/NNG, 이/JKS, 없/VA, 어/EF, ./SF]</td>\n",
              "      <td>[지금/NNG, 도/JX, 그대로/MAG, 있/VV, 어/EF, ./SF, 치우/VV, 는/ETM, 사람/NNG, 이/JKS, 없/VA, 어/EF, ./SF]</td>\n",
              "    </tr>\n",
              "    <tr>\n",
              "      <th>2</th>\n",
              "      <td>[맞아/Verb, ./Punctuation, 무기력증/Noun, 인/Josa, 것/Noun, 같아/Adjective, ./Punctuation, 한동안/Adverb, 정말/Noun, 바빴었거든/Adjective, ./Punctuation]</td>\n",
              "      <td>[맞/VV, 아/ECD, ./SF, 무기력/NNG, 증/NNG, 이/VCP, ㄴ/ETD, 것/NNB, 같/VA, 아/ECD, ./SF, 한동안/MAG, 정말/MAG, 바쁘/VA, 았/EPT, 었/EPT, 거든/EFN, ./SF]</td>\n",
              "      <td>[맞/VV, 아/EF, ./SF, 무기력증/NNP, 이/VCP, ㄴ/ETM, 것/NNB, 같/VA, 아/EF, ./SF, 한동안/NNG, 정말/MAG, 바쁘/VA, 았었/EP, 거든/EF, ./SF]</td>\n",
              "      <td>[맞/VV, 아/EF, ./SF, 무기력증/NNG, 인/VCP+ETM, 것/NNB, 같/VA, 아/EF, ./SF, 한동안/MAG, 정말/MAG, 바빴/VA+EP, 었/EP, 거든/EF, ./SF]</td>\n",
              "    </tr>\n",
              "    <tr>\n",
              "      <th>3</th>\n",
              "      <td>[오늘이/Noun, 발표/Noun, 날/Noun, 인데/Josa, 연락/Noun, 이/Josa, 없더라고/Adjective, ./Punctuation, 그래서/Adverb, 알아봤더니/Verb, 명단/Noun, 에/Josa, 내/Noun, 이름/Noun, 이/Josa, 없대/Adjective, ./Punctuation]</td>\n",
              "      <td>[오늘/NNG, 이/JKS, 발표/NNG, 날/NNG, 이/VCP, ㄴ데/ECE, 연락/NNG, 이/JKS, 없/VA, 더/EPT, 라고/EFN, ./SF, 그래서/MAG, 알아보/VV, 았/EPT, 더니/ECD, 명단/NNG, 에/JKM, 내/NP, 이름/NNG, 이/JKS, 없/VA, 대/EFN, ./SF]</td>\n",
              "      <td>[오늘/NNG, 이/JKS, 발표/NNG, 날/NNG, 이/VCP, ㄴ데/EC, 연락/NNG, 이/JKS, 없/VA, 더라고/EF, ./SF, 그래서/MAJ, 알아보/VV, 았/EP, 더니/EC, 명단/NNG, 에/JKB, 내/NP, 이름/NNG, 이/JKS, 없/VA, 대/EF, ./SF]</td>\n",
              "      <td>[오늘/NNG, 이/JKS, 발표/NNG, 날/NNG, 인데/VCP+EC, 연락/NNG, 이/JKS, 없/VA, 더라고/EF, ./SF, 그래서/MAJ, 알/VV, 아/EC, 봤/VX+EP, 더니/EC, 명단/NNG, 에/JKB, 내/NP+JKG, 이름/NNG, 이/JKS, 없/VA, 대/EF, ./SF]</td>\n",
              "    </tr>\n",
              "    <tr>\n",
              "      <th>4</th>\n",
              "      <td>[그치/Verb, ./Punctuation, 개/Noun, 키우는/Verb, 사람/Noun, 이/Josa, 늘어나니까/Verb, 그만큼/Adverb, 버리는/Verb, 사람/Noun, 도/Josa, 늘어나는/Verb, 거야/Eomi, !/Punctuation]</td>\n",
              "      <td>[그/MDT, 치/NNB, ./SF, 개/NNG, 키우/VV, 는/ETD, 사람/NNG, 이/JKS, 늘어나/VV, 니까/ECD, 그만큼/MAG, 버리/VV, 는/ETD, 사람/NNG, 도/JX, 늘어나/VV, 는/ETD, 거/NNB, 야/JX, !/SF]</td>\n",
              "      <td>[그/NP, 하/XSA, 지/EF, ./SF, 개/NNB, 키우/VV, 는/ETM, 사람/NNG, 이/JKS, 늘어나/VV, 니까/EC, 그만큼/MAG, 버리/VX, 는/ETM, 사람/NNG, 도/JX, 늘어나/VV, 는/ETM, 거/NNB, 야/JKV, !/SF]</td>\n",
              "      <td>[그치/IC, ./SF, 개/NNG, 키우/VV, 는/ETM, 사람/NNG, 이/JKS, 늘어나/VV, 니까/EC, 그만큼/MAG, 버리/VV, 는/ETM, 사람/NNG, 도/JX, 늘어나/VV, 는/ETM, 거/NNB, 야/VCP+EF, !/SF]</td>\n",
              "    </tr>\n",
              "    <tr>\n",
              "      <th>5</th>\n",
              "      <td>[공채/Noun, 로/Josa, 볼/Noun, 수/Noun, 있는/Adjective, 마지막/Noun, 회사/Noun, 였어/Verb, ./Punctuation, 그래서/Adverb, 정말/Noun, 많이/Adverb, 노력/Noun, 했거든/Verb, ./Punctuation]</td>\n",
              "      <td>[공채/NNG, 로/JKM, 보/VV, ㄹ/ETD, 수/NNB, 있/VV, 는/ETD, 마지막/NNG, 회사/NNG, 이/VCP, 었/EPT, 어/EFN, ./SF, 그래서/MAG, 정말/MAG, 많이/MAG, 노력/NNG, 하/XSV, 었/EPT, 거든/EFN, ./SF]</td>\n",
              "      <td>[공채/NNP, 로/JKB, 보/VV, ㄹ/ETM, 수/NNB, 있/VV, 는/ETM, 마지막/NNG, 회사/NNG, 이/VCP, 었/EP, 어/EF, ./SF, 그래서/MAJ, 정말/MAG, 많이/MAG, 노력/NNG, 하/XSV, 았/EP, 거든/EF, ./SF]</td>\n",
              "      <td>[공채/NNG, 로/JKB, 볼/VV+ETM, 수/NNB, 있/VV, 는/ETM, 마지막/NNG, 회사/NNG, 였/VCP+EP, 어/EF, ./SF, 그래서/MAJ, 정말/MAG, 많이/MAG, 노력/NNG, 했/XSV+EP, 거든/EF, ./SF]</td>\n",
              "    </tr>\n",
              "    <tr>\n",
              "      <th>6</th>\n",
              "      <td>[버려진/Noun, 개/Noun, 가/Josa, 워낙/Noun, 많으니까/Adjective, 시설/Noun, 이/Josa, 부족할/Adjective, 수/Noun, 밖에/Josa, 없고/Adjective, 당연히/Adjective, 상황/Noun, 이/Josa, 너무/Adverb, 열악하지/Adjective, ./Punctuation]</td>\n",
              "      <td>[버리/VV, 어/ECS, 지/VXV, ㄴ/ETD, 개/NNG, 가/JKS, 워낙/MAG, 많/VA, 으니까/ECD, 시설/NNG, 이/JKS, 부족/NNG, 하/XSV, ㄹ/ETD, 수/NNB, 밖에/JX, 없/VA, 고/ECE, 당연히/MAG, 상황/NNG, 이/JKS, 너무/MAG, 열악/XR, 하/XSA, 지/ECD, ./SF]</td>\n",
              "      <td>[버리/VX, 어/EC, 지/VX, ㄴ/ETM, 개/NNB, 가/JKS, 워낙/MAG, 많/VA, 으니까/EC, 시설/NNG, 이/JKS, 부족/NNG, 하/XSV, ㄹ/ETM, 수/NNB, 밖/NNG, 에/JKB, 없/VA, 고/EC, 당연히/MAG, 상황/NNG, 이/JKS, 너무/MAG, 열악/XR, 하/XSA, 지/EF, ./SF]</td>\n",
              "      <td>[버려진/VV+EC+VX+ETM, 개/NNG, 가/JKS, 워낙/MAG, 많/VA, 으니까/EC, 시설/NNG, 이/JKS, 부족/NNG, 할/XSV+ETM, 수/NNB, 밖/NNG, 에/JKB, 없/VA, 고/EC, 당연히/MAG, 상황/NNG, 이/JKS, 너무/MAG, 열악/XR, 하/XSA, 지/EF, ./SF]</td>\n",
              "    </tr>\n",
              "    <tr>\n",
              "      <th>7</th>\n",
              "      <td>[나/Noun, 면접/Noun, 또/Noun, 떨어졌어/Verb, ./Punctuation]</td>\n",
              "      <td>[나/NP, 면접/NNG, 또/MAG, 떨어지/VV, 었/EPT, 어/EFN, ./SF]</td>\n",
              "      <td>[나/NP, 면접/NNP, 또/MAJ, 떨어지/VV, 었/EP, 어/EF, ./SF]</td>\n",
              "      <td>[나/NP, 면접/NNG, 또/MAG, 떨어졌/VV+EP, 어/EF, ./SF]</td>\n",
              "    </tr>\n",
              "    <tr>\n",
              "      <th>8</th>\n",
              "      <td>[부모님/Noun, 께서/Josa, 기대/Noun, 가/Josa, 너무/Adverb, 크셔서/Verb, 실망/Noun, 도/Josa, 크실까봐/Verb, 아직/Adverb, 말씀/Noun, 못/Noun, 드렸어/Verb, ./Punctuation]</td>\n",
              "      <td>[부모님/NNG, 께서/JKS, 기대/NNG, 가/JKS, 너무/MAG, 크/VA, 시/EPH, 어서/ECD, 실망/NNG, 도/JX, 크/VA, 시/EPH, ㄹ까/ECD, 보/VV, 아/ECS, 아직/MAG, 말씀/NNG, 못/MAG, 드리/VV, 었/EPT, 어/EFN, ./SF]</td>\n",
              "      <td>[부모/NNG, 님/XSN, 께서/JKS, 기대/NNG, 가/JKS, 너무/MAG, 크/VA, 시/EP, 어서/EC, 실망/NNP, 도/JX, 크/VA, 시/EP, ㄹ까/EC, 보/VX, 아/EC, 아직/MAG, 말씀/NNG, 못/MAG, 드리/VV, 었/EP, 어/EF, ./SF]</td>\n",
              "      <td>[부모/NNG, 님/XSN, 께서/JKS, 기대/NNG, 가/JKS, 너무/MAG, 크/VA, 셔서/EP+EC, 실망/NNG, 도/JX, 크/VA, 실까봐/EP+EC+VX+EC, 아직/MAG, 말씀/NNG, 못/MAG, 드렸/VV+EP, 어/EF, ./SF]</td>\n",
              "    </tr>\n",
              "    <tr>\n",
              "      <th>9</th>\n",
              "      <td>[그렇지/Adjective, !/Punctuation, 아/Exclamation, 나/Noun, 진짜/Noun, 너무/Adverb, 싫어/Adjective, 그런/Adjective, 사람/Noun, 들/Suffix, ./Punctuation, 대체/Noun, 생명/Noun, 이/Josa, 있는/Adjective, 개/Noun, 를/Josa, 뭐라고/Verb, 생각/Noun, 하는/Verb, 거야/Eomi, ?/Punctuation]</td>\n",
              "      <td>[그렇/VA, 지/ECD, !/SF, 아/VV, 아/ECS, 나/NP, 진짜/MAG, 너무/MAG, 싫/VV, 어/ECD, 그러/VV, ㄴ/ETD, 사람/NNG, 들/XSN, ./SF, 대체/NNG, 생명/NNG, 이/JKS, 있/VV, 는/ETD, 개/NNG, 를/JKO, 뭐/NP, 라고/JX, 생각/NNG, 하/XSV, 는/ETD, 거/NNB, 야/JX, ?/SF]</td>\n",
              "      <td>[그렇/VA, 지/EF, !/SF, 아/IC, 나/NP, 진짜/MAG, 너무/MAG, 싫/VA, 어/EC, 그런/MM, 사람/NNG, 들/XSN, ./SF, 대체/NNG, 생명/NNG, 이/JKS, 있/VV, 는/ETM, 개/NNB, 를/JKO, 뭐/NP, 이/VCP, 라고/EC, 생각/NNG, 하/XSV, 는/ETM, 거/NNB, 야/JKV, ?/SF]</td>\n",
              "      <td>[그렇/VA, 지/EF, !/SF, 아/IC, 나/NP, 진짜/MAG, 너무/MAG, 싫/VA, 어/EC, 그런/MM, 사람/NNG, 들/XSN, ./SF, 대체/MAG, 생명/NNG, 이/JKS, 있/VA, 는/ETM, 개/NNG, 를/JKO, 뭐/NP, 라고/VCP+EC, 생각/NNG, 하/XSV, 는/ETM, 거/NNB, 야/VCP+EF, ?/SF]</td>\n",
              "    </tr>\n",
              "  </tbody>\n",
              "</table>\n",
              "</div>"
            ]
          },
          "metadata": {
            "tags": []
          },
          "execution_count": 24
        }
      ],
      "metadata": {
        "colab": {
          "base_uri": "https://localhost:8080/",
          "height": 899
        },
        "id": "p_ZYKR9b0wIq",
        "outputId": "c4a67dca-eca8-407d-ee9c-dff00f919aa2"
      }
    },
    {
      "cell_type": "code",
      "execution_count": null,
      "source": [
        "corpus_df.tail(10)"
      ],
      "outputs": [
        {
          "output_type": "execute_result",
          "data": {
            "text/plain": [
              "                                                                                                                                                                                                                                                                                                                   Okt  ...                                                                                                                                                                                                                                                                               Mecab\n",
              "10001                                                                              [갑자기/Noun, 일어난/Verb, 지진/Noun, 때문/Noun, 에/Josa, 너무/Adverb, 놀라서/Verb, 어제/Noun, 밤/Noun, 에/Josa, 잠도/Noun, 못/Noun, 잤어/Verb, ./Punctuation, 너무/Adverb, 피곤한데/Adjective, 오늘/Noun, 은/Josa, 좀/Noun, 푹/Noun, 쉬어야/Verb, 겠어/Verb, ./Punctuation]  ...                                                             [갑자기/MAG, 일어난/VV+ETM, 지진/NNG, 때문/NNB, 에/JKB, 너무/MAG, 놀라/VV, 서/EC, 어제/MAG, 밤/NNG, 에/JKB, 잠/NNG, 도/JX, 못/MAG, 잤/VV+EP, 어/EF, ./SF, 너무/MAG, 피곤/NNG, 한데/XSA+EC, 오늘/NNG, 은/JX, 좀/MAG, 푹/MAG, 쉬/VV, 어야/EC, 겠어/VX+EP+EF, ./SF]\n",
              "10002                                                                                                                                                                                                                                                   [어/Eomi, ./Punctuation, 그게/Noun, 좋겠다/Adjective, ./Punctuation]  ...                                                                                                                                                                                                                                     [어/IC, ./SF, 그게/NP+JKS, 좋/VA, 겠/EP, 다/EF, ./SF]\n",
              "10003                                                                                                                                                                                               [한번/Noun, 약속/Noun, 장소/Noun, 를/Josa, 옮겨/Verb, 보도록/Verb, 노력/Noun, 해/Verb, 볼/Noun, 게/Josa, ./Punctuation, \\t/Foreign]  ...                                                                                                                                                                                      [한/MM, 번/NNBC, 약속/NNG, 장소/NNG, 를/JKO, 옮겨/VV+EC, 보/VX, 도록/EC, 노력/NNG, 해/XSV+EC, 볼게/VX+EF, ./SF]\n",
              "10004                                                                                                                                                                                                                                                     [걱정/Noun, 해줘서/Verb, 너무/Adverb, 고마워/Adjective, ./Punctuation]  ...                                                                                                                                                                                                                               [걱정/NNG, 해/XSV+EC, 줘서/VX+EC, 너무/MAG, 고마워/VA+EF, ./SF]\n",
              "10005                                                                                                                                                                                                [고마워/Adjective, ./Punctuation, 너/Noun, 한테/Josa, 얘기/Noun, 하니/Verb, 마음/Noun, 이/Josa, 후련하다/Adjective, ./Punctuation]  ...                                                                                                                                                                                       [고마워/VA+EF, ./SF, 너/NP, 한테/JKB, 얘기/NNG, 하/XSV, 니/EC, 마음/NNG, 이/JKS, 후련/XR, 하/XSA, 다/EF, ./SF]\n",
              "10006  [너/Noun, 의/Josa, 말/Noun, 대로/Noun, 약속/Noun, 장소/Noun, 를/Josa, 옮겨/Verb, 보는/Verb, 것/Noun, 도/Josa, 좋은/Adjective, 방법/Noun, 같아/Adjective, ./Punctuation, 나/Noun, 는/Josa, 취소/Noun, 할/Verb, 생각/Noun, 만/Josa, 했지/Verb, ,/Punctuation, 약속/Noun, 장소/Noun, 를/Josa, 옮길/Verb, 생각/Noun, 은/Josa, 못/Noun, 했어/Verb, ./Punctuation]  ...  [너/NP, 의/JKG, 말/NNG, 대/NNG, 로/JKB, 약속/NNG, 장소/NNG, 를/JKO, 옮겨/VV+EC, 보/VX, 는/ETM, 것/NNB, 도/JX, 좋/VA, 은/ETM, 방법/NNG, 같/VA, 아/EF, ./SF, 나/NP, 는/JX, 취소/NNG, 할/XSV+ETM, 생각/NNG, 만/JX, 했/VV+EP, 지/EF, ,/SC, 약속/NNG, 장소/NNG, 를/JKO, 옮길/VV+ETM, 생각/NNG, 은/JX, 못/MAG, 했/VV+EP, 어/EF, ./SF]\n",
              "10007                                                                                                                                                                             [산책/Noun, 하는/Verb, 게/Noun, 나을/Verb, 것/Noun, 같아/Adjective, ./Punctuation, 이제/Noun, 부터/Josa, 산책/Noun, 좀/Noun, 해볼게/Verb, ./Punctuation]  ...                                                                                                                                                          [산책/NNG, 하/XSV, 는/ETM, 게/NNB+JKS, 나을/VA+ETM, 것/NNB, 같/VA, 아/EF, ./SF, 이제/NNG, 부터/JX, 산책/NNG, 좀/MAG, 해볼게/VV+EC+VX+EF, ./SF]\n",
              "10008                                                                                                                        [너/Noun, 의/Josa, 말/Noun, 을/Josa, 듣고/Verb, 보/Noun, 니까/Josa, 약/Modifier, 속/Modifier, 장소/Noun, 를/Josa, 옮겨/Verb, 보는/Verb, 것/Noun, 도/Josa, 좋은/Adjective, 방법/Noun, 같아/Adjective, ./Punctuation]  ...                                                                                                                              [너/NP, 의/JKG, 말/NNG, 을/JKO, 듣/VV, 고/EC, 보/VX, 니까/EC, 약속/NNG, 장소/NNG, 를/JKO, 옮겨/VV+EC, 보/VX, 는/ETM, 것/NNB, 도/JX, 좋/VA, 은/ETM, 방법/NNG, 같/VA, 아/EF, ./SF]\n",
              "10009                                                                                                               [오늘/Noun, 친구/Noun, 한테/Josa, 전화해서/Adjective, 안좋은/Adjective, 상황/Noun, 이니까/Josa, 약속/Noun, 을/Josa, 미룰지/Verb, 약속/Noun, 장소/Noun, 를/Josa, 변경/Noun, 할지/Verb, 상의/Noun, 해보자고/Verb, 해야겠어/Verb, ./Punctuation]  ...                                                      [오늘/MAG, 친구/NNG, 한테/JKB, 전화/NNG, 해서/XSV+EC, 안/MAG, 좋/VA, 은/ETM, 상황/NNG, 이/VCP, 니까/EC, 약속/NNG, 을/JKO, 미룰/VV+ETM, 지/NNB, 약속/NNG, 장소/NNG, 를/JKO, 변경/NNG, 할지/XSV+EC, 상의/NNG, 해/XSV+EC, 보/VX, 자고/EC, 해야/VX+EC+VX, 겠/EP, 어/EF, ./SF]\n",
              "10010                                                                                                                         [사람/Noun, 이/Josa, 많이/Adverb, 다니는/Verb, 강남역/Noun, 보다는/Josa, 공원/Noun, 이/Josa, 훨씬/Adverb, 더/Noun, 낫겠지/Verb, ./Punctuation, 내/Noun, 가/Josa, 한번/Noun, 바꿔/Verb, 볼/Noun, 게/Josa, !/Punctuation]  ...                                                                                                             [사람/NNG, 이/JKS, 많이/MAG, 다니/VV, 는/ETM, 강남역/NNP, 보다/JKB, 는/JX, 공원/NNG, 이/JKS, 훨씬/MAG, 더/MAG, 낫/VA, 겠/EP, 지/EF, ./SF, 내/NP, 가/JKS, 한/MM, 번/NNBC, 바꿔/VV+EC, 볼게/VX+EF, !/SF]\n",
              "\n",
              "[10 rows x 4 columns]"
            ],
            "text/html": [
              "<div>\n",
              "<style scoped>\n",
              "    .dataframe tbody tr th:only-of-type {\n",
              "        vertical-align: middle;\n",
              "    }\n",
              "\n",
              "    .dataframe tbody tr th {\n",
              "        vertical-align: top;\n",
              "    }\n",
              "\n",
              "    .dataframe thead th {\n",
              "        text-align: right;\n",
              "    }\n",
              "</style>\n",
              "<table border=\"1\" class=\"dataframe\">\n",
              "  <thead>\n",
              "    <tr style=\"text-align: right;\">\n",
              "      <th></th>\n",
              "      <th>Okt</th>\n",
              "      <th>Kkma</th>\n",
              "      <th>Komoran</th>\n",
              "      <th>Mecab</th>\n",
              "    </tr>\n",
              "  </thead>\n",
              "  <tbody>\n",
              "    <tr>\n",
              "      <th>10001</th>\n",
              "      <td>[갑자기/Noun, 일어난/Verb, 지진/Noun, 때문/Noun, 에/Josa, 너무/Adverb, 놀라서/Verb, 어제/Noun, 밤/Noun, 에/Josa, 잠도/Noun, 못/Noun, 잤어/Verb, ./Punctuation, 너무/Adverb, 피곤한데/Adjective, 오늘/Noun, 은/Josa, 좀/Noun, 푹/Noun, 쉬어야/Verb, 겠어/Verb, ./Punctuation]</td>\n",
              "      <td>[갑자기/MAG, 일어나/VV, ㄴ/ETD, 지진/NNG, 때문/NNB, 에/JKM, 너무/MAG, 놀라/VV, 서/ECD, 어제/NNG, 밤/NNG, 에/JKM, 잠/NNG, 도/JX, 못/MAG, 자/VV, 었/EPT, 어/EFN, ./SF, 너무/MAG, 피곤/NNG, 하/XSV, ㄴ/ETD, 데/NNB, 오늘/NNG, 은/JX, 좀/MAG, 푹/MAG, 쉬/VV, 어야/ECD, 겠어/UN, ./SF]</td>\n",
              "      <td>[갑자기/MAG, 일어나/VV, ㄴ/ETM, 지진/NNP, 때문/NNB, 에/JKB, 너무/MAG, 놀라/VV, 아서/EC, 어제/MAG, 밤/NNG, 에/JKB, 잠도/NNP, 못/MAG, 자/VV, 았/EP, 어/EF, ./SF, 너무/MAG, 피곤/NNG, 하/XSV, ㄴ데/EC, 오늘/NNG, 은/JX, 좀/MAG, 푹/MAG, 쉬/VV, 어야/EC, 하/VX, 겠/EP, 어/EF, ./SF]</td>\n",
              "      <td>[갑자기/MAG, 일어난/VV+ETM, 지진/NNG, 때문/NNB, 에/JKB, 너무/MAG, 놀라/VV, 서/EC, 어제/MAG, 밤/NNG, 에/JKB, 잠/NNG, 도/JX, 못/MAG, 잤/VV+EP, 어/EF, ./SF, 너무/MAG, 피곤/NNG, 한데/XSA+EC, 오늘/NNG, 은/JX, 좀/MAG, 푹/MAG, 쉬/VV, 어야/EC, 겠어/VX+EP+EF, ./SF]</td>\n",
              "    </tr>\n",
              "    <tr>\n",
              "      <th>10002</th>\n",
              "      <td>[어/Eomi, ./Punctuation, 그게/Noun, 좋겠다/Adjective, ./Punctuation]</td>\n",
              "      <td>[어/VV, 어/ECS, ./SF, 그/VV, 게/ECD, 좋/VA, 겠/EPT, 다/EFN, ./SF]</td>\n",
              "      <td>[어/IC, ./SF, 그/NP, 게/EC, 좋/VA, 겠/EP, 다/EF, ./SF]</td>\n",
              "      <td>[어/IC, ./SF, 그게/NP+JKS, 좋/VA, 겠/EP, 다/EF, ./SF]</td>\n",
              "    </tr>\n",
              "    <tr>\n",
              "      <th>10003</th>\n",
              "      <td>[한번/Noun, 약속/Noun, 장소/Noun, 를/Josa, 옮겨/Verb, 보도록/Verb, 노력/Noun, 해/Verb, 볼/Noun, 게/Josa, ./Punctuation, \\t/Foreign]</td>\n",
              "      <td>[한번/NNG, 약속/NNG, 장소/NNG, 를/JKO, 옮기/VV, 어/ECS, 보/VXV, 도록/ECD, 노력/NNG, 하/XSV, 어/ECS, 보/VXV, ㄹ게/EFN, ./SF]</td>\n",
              "      <td>[한/MM, 번/NNB, 약속/NNG, 장소/NNG, 를/JKO, 옮기/VV, 어/EC, 보/VX, 도록/EC, 노력/NNG, 하/XSV, 아/EC, 보/VX, ㄹ게/EF, ./SF]</td>\n",
              "      <td>[한/MM, 번/NNBC, 약속/NNG, 장소/NNG, 를/JKO, 옮겨/VV+EC, 보/VX, 도록/EC, 노력/NNG, 해/XSV+EC, 볼게/VX+EF, ./SF]</td>\n",
              "    </tr>\n",
              "    <tr>\n",
              "      <th>10004</th>\n",
              "      <td>[걱정/Noun, 해줘서/Verb, 너무/Adverb, 고마워/Adjective, ./Punctuation]</td>\n",
              "      <td>[걱정/NNG, 하/XSV, 어/ECS, 주/VXV, 어서/ECD, 너무/MAG, 고맙/VA, 어/ECS, ./SF]</td>\n",
              "      <td>[걱정/NNG, 하/XSV, 아/EC, 주/VX, 어서/EC, 너무/MAG, 고맙/VA, 어/EF, ./SF]</td>\n",
              "      <td>[걱정/NNG, 해/XSV+EC, 줘서/VX+EC, 너무/MAG, 고마워/VA+EF, ./SF]</td>\n",
              "    </tr>\n",
              "    <tr>\n",
              "      <th>10005</th>\n",
              "      <td>[고마워/Adjective, ./Punctuation, 너/Noun, 한테/Josa, 얘기/Noun, 하니/Verb, 마음/Noun, 이/Josa, 후련하다/Adjective, ./Punctuation]</td>\n",
              "      <td>[고맙/VV, 어/ECS, ./SF, 너/NP, 한테/JKO, 얘기/NNG, 하/XSV, 니/ECD, 마음/NNG, 이/JKS, 후련/XR, 하/XSA, 다/EFN, ./SF]</td>\n",
              "      <td>[고맙/VA, 어/EF, ./SF, 너/NP, 한테/JKB, 얘기/NNG, 하/XSV, 니/EC, 마음/NNG, 이/JKS, 후련/XR, 하/XSA, 다/EF, ./SF]</td>\n",
              "      <td>[고마워/VA+EF, ./SF, 너/NP, 한테/JKB, 얘기/NNG, 하/XSV, 니/EC, 마음/NNG, 이/JKS, 후련/XR, 하/XSA, 다/EF, ./SF]</td>\n",
              "    </tr>\n",
              "    <tr>\n",
              "      <th>10006</th>\n",
              "      <td>[너/Noun, 의/Josa, 말/Noun, 대로/Noun, 약속/Noun, 장소/Noun, 를/Josa, 옮겨/Verb, 보는/Verb, 것/Noun, 도/Josa, 좋은/Adjective, 방법/Noun, 같아/Adjective, ./Punctuation, 나/Noun, 는/Josa, 취소/Noun, 할/Verb, 생각/Noun, 만/Josa, 했지/Verb, ,/Punctuation, 약속/Noun, 장소/Noun, 를/Josa, 옮길/Verb, 생각/Noun, 은/Josa, 못/Noun, 했어/Verb, ./Punctuation]</td>\n",
              "      <td>[너/NP, 의/JKG, 말/NNG, 대로/JX, 약속/NNG, 장소/NNG, 를/JKO, 옮기/VV, 어/ECS, 보/VXV, 는/ETD, 것/NNB, 도/JX, 좋/VA, 은/ETD, 방법/NNG, 같/VA, 아/ECD, ./SF, 나/NP, 는/JX, 취소/NNG, 하/XSV, ㄹ/ETD, 생각/NNG, 만/JX, 하/VV, 었/EPT, 지/ECD, ,/SP, 약속/NNG, 장소/NNG, 를/JKO, 옮기/VV, ㄹ/ETD, 생각/NNG, 은/JX, 못/MAG, 하/VV, 었/EPT, 어/EFN, ./SF]</td>\n",
              "      <td>[너/NP, 의/JKG, 말/NNG, 대로/NNB, 약속/NNG, 장소/NNG, 를/JKO, 옮기/VV, 어/EC, 보/VV, 는/ETM, 것/NNB, 도/JX, 좋/VA, 은/ETM, 방법/NNG, 같/VA, 아/EF, ./SF, 나/NP, 는/JX, 취소/NNG, 하/XSV, ㄹ/ETM, 생각/NNG, 만/JX, 하/VV, 았/EP, 지/EC, ,/SP, 약속/NNG, 장소/NNG, 를/JKO, 옮기/VV, ㄹ/ETM, 생각/NNG, 은/JX, 못/MAG, 하/VV, 았/EP, 어/EF, ./SF]</td>\n",
              "      <td>[너/NP, 의/JKG, 말/NNG, 대/NNG, 로/JKB, 약속/NNG, 장소/NNG, 를/JKO, 옮겨/VV+EC, 보/VX, 는/ETM, 것/NNB, 도/JX, 좋/VA, 은/ETM, 방법/NNG, 같/VA, 아/EF, ./SF, 나/NP, 는/JX, 취소/NNG, 할/XSV+ETM, 생각/NNG, 만/JX, 했/VV+EP, 지/EF, ,/SC, 약속/NNG, 장소/NNG, 를/JKO, 옮길/VV+ETM, 생각/NNG, 은/JX, 못/MAG, 했/VV+EP, 어/EF, ./SF]</td>\n",
              "    </tr>\n",
              "    <tr>\n",
              "      <th>10007</th>\n",
              "      <td>[산책/Noun, 하는/Verb, 게/Noun, 나을/Verb, 것/Noun, 같아/Adjective, ./Punctuation, 이제/Noun, 부터/Josa, 산책/Noun, 좀/Noun, 해볼게/Verb, ./Punctuation]</td>\n",
              "      <td>[산책/NNG, 하/XSV, 는/ETD, 것/NNB, 이/JKS, 낫/VA, 을/ETD, 것/NNB, 같/VA, 아/ECD, ./SF, 이제/NNG, 부터/JX, 산책/NNG, 좀/MAG, 해보/VV, ㄹ게/EFN, ./SF]</td>\n",
              "      <td>[산책/NNG, 하/XSV, 는/ETM, 게/NNG, 나/VV, 을/ETM, 것/NNB, 같/VA, 아/EF, ./SF, 이제/NNG, 부터/JX, 산책/NNP, 좀/MAG, 해보/VV, ㄹ게/EF, ./SF]</td>\n",
              "      <td>[산책/NNG, 하/XSV, 는/ETM, 게/NNB+JKS, 나을/VA+ETM, 것/NNB, 같/VA, 아/EF, ./SF, 이제/NNG, 부터/JX, 산책/NNG, 좀/MAG, 해볼게/VV+EC+VX+EF, ./SF]</td>\n",
              "    </tr>\n",
              "    <tr>\n",
              "      <th>10008</th>\n",
              "      <td>[너/Noun, 의/Josa, 말/Noun, 을/Josa, 듣고/Verb, 보/Noun, 니까/Josa, 약/Modifier, 속/Modifier, 장소/Noun, 를/Josa, 옮겨/Verb, 보는/Verb, 것/Noun, 도/Josa, 좋은/Adjective, 방법/Noun, 같아/Adjective, ./Punctuation]</td>\n",
              "      <td>[너/NP, 의/JKG, 말/NNG, 을/JKO, 듣/VV, 고/ECE, 보/VXV, 니까/ECD, 약속/NNG, 장소/NNG, 를/JKO, 옮기/VV, 어/ECS, 보/VXV, 는/ETD, 것/NNB, 도/JX, 좋/VA, 은/ETD, 방법/NNG, 같/VA, 아/ECD, ./SF]</td>\n",
              "      <td>[너/NP, 의/JKG, 말/NNG, 을/JKO, 듣/VV, 고/EC, 보/VX, 니까/EC, 약속/NNG, 장소/NNG, 를/JKO, 옮기/VV, 어/EC, 보/VX, 는/ETM, 것/NNB, 도/JX, 좋/VA, 은/ETM, 방법/NNG, 같/VA, 아/EF, ./SF]</td>\n",
              "      <td>[너/NP, 의/JKG, 말/NNG, 을/JKO, 듣/VV, 고/EC, 보/VX, 니까/EC, 약속/NNG, 장소/NNG, 를/JKO, 옮겨/VV+EC, 보/VX, 는/ETM, 것/NNB, 도/JX, 좋/VA, 은/ETM, 방법/NNG, 같/VA, 아/EF, ./SF]</td>\n",
              "    </tr>\n",
              "    <tr>\n",
              "      <th>10009</th>\n",
              "      <td>[오늘/Noun, 친구/Noun, 한테/Josa, 전화해서/Adjective, 안좋은/Adjective, 상황/Noun, 이니까/Josa, 약속/Noun, 을/Josa, 미룰지/Verb, 약속/Noun, 장소/Noun, 를/Josa, 변경/Noun, 할지/Verb, 상의/Noun, 해보자고/Verb, 해야겠어/Verb, ./Punctuation]</td>\n",
              "      <td>[오늘/NNG, 친구/NNG, 한테/JKO, 전화/NNG, 하/XSV, 어서/ECD, 안/MAG, 좋/VA, 은/ETD, 상황/NNG, 이/VCP, 니까/ECD, 약속/NNG, 을/JKO, 미루/VV, ㄹ지/ECD, 약속/NNG, 장소/NNG, 를/JKO, 변경/NNG, 하/XSV, ㄹ지/ECD, 상의/NNG, 해보/VV, 자고/EFQ, 해야/UN, 이/VCP, 겠/EPT, 어/EFN, ./SF]</td>\n",
              "      <td>[오늘/NNG, 친구/NNG, 한테/JKB, 전화/NNG, 하/XSV, 아서/EC, 안/MAG, 좋/VA, 은/ETM, 상황/NNG, 이/VCP, 니까/EC, 약속/NNG, 을/JKO, 미루/VV, ㄹ지/EC, 약속/NNG, 장소/NNG, 를/JKO, 변경/NNG, 하/XSV, ㄹ지/EC, 상의/NNG, 하/XSV, 아/EC, 보/VX, 자고/EC, 하/VV, 아야/EC, 하/VX, 겠/EP, 어/EF, ./SF]</td>\n",
              "      <td>[오늘/MAG, 친구/NNG, 한테/JKB, 전화/NNG, 해서/XSV+EC, 안/MAG, 좋/VA, 은/ETM, 상황/NNG, 이/VCP, 니까/EC, 약속/NNG, 을/JKO, 미룰/VV+ETM, 지/NNB, 약속/NNG, 장소/NNG, 를/JKO, 변경/NNG, 할지/XSV+EC, 상의/NNG, 해/XSV+EC, 보/VX, 자고/EC, 해야/VX+EC+VX, 겠/EP, 어/EF, ./SF]</td>\n",
              "    </tr>\n",
              "    <tr>\n",
              "      <th>10010</th>\n",
              "      <td>[사람/Noun, 이/Josa, 많이/Adverb, 다니는/Verb, 강남역/Noun, 보다는/Josa, 공원/Noun, 이/Josa, 훨씬/Adverb, 더/Noun, 낫겠지/Verb, ./Punctuation, 내/Noun, 가/Josa, 한번/Noun, 바꿔/Verb, 볼/Noun, 게/Josa, !/Punctuation]</td>\n",
              "      <td>[사람/NNG, 이/JKS, 많이/MAG, 다니/VV, 는/ETD, 강남/NNG, 역/NNG, 보다/JKM, 는/JX, 공원/NNG, 이/JKS, 훨씬/MAG, 더/MAG, 낫/VV, 겠/EPT, 지/EFN, ./SF, 내/NP, 가/JKS, 한번/MAG, 바꾸/VV, 어/ECS, 보/VXV, ㄹ게/EFN, !/SF]</td>\n",
              "      <td>[사람/NNG, 이/JKS, 많이/MAG, 다니/VV, 는/ETM, 강남역/NNP, 보다/JKB, 는/JX, 공원/NNG, 이/JKS, 훨씬/MAG, 더/MAG, 낫/VA, 겠/EP, 지/EF, ./SF, 내/NP, 가/JKS, 한/MM, 번/NNB, 바꾸/VV, 어/EC, 보/VX, ㄹ게/EF, !/SF]</td>\n",
              "      <td>[사람/NNG, 이/JKS, 많이/MAG, 다니/VV, 는/ETM, 강남역/NNP, 보다/JKB, 는/JX, 공원/NNG, 이/JKS, 훨씬/MAG, 더/MAG, 낫/VA, 겠/EP, 지/EF, ./SF, 내/NP, 가/JKS, 한/MM, 번/NNBC, 바꿔/VV+EC, 볼게/VX+EF, !/SF]</td>\n",
              "    </tr>\n",
              "  </tbody>\n",
              "</table>\n",
              "</div>"
            ]
          },
          "metadata": {
            "tags": []
          },
          "execution_count": 26
        }
      ],
      "metadata": {
        "colab": {
          "base_uri": "https://localhost:8080/",
          "height": 916
        },
        "id": "adaazKiC1xZu",
        "outputId": "ced4d284-a7fb-4b1a-e32b-c53cfd929726"
      }
    }
  ]
}